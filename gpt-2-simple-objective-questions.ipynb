{
 "cells": [
  {
   "cell_type": "code",
   "execution_count": 1,
   "metadata": {},
   "outputs": [],
   "source": [
    "import sys\n",
    "from pathlib import Path\n",
    "\n",
    "sys.path.append(str(Path.cwd() / \"src2\"))"
   ]
  },
  {
   "cell_type": "code",
   "execution_count": 2,
   "metadata": {},
   "outputs": [],
   "source": [
    "from interactive_conditional_samples import interact_model"
   ]
  },
  {
   "cell_type": "code",
   "execution_count": 3,
   "metadata": {},
   "outputs": [
    {
     "name": "stdout",
     "output_type": "stream",
     "text": [
      "WARNING:tensorflow:From /home/avmo/src/sandbox/gpt-2/src2/sample.py:79: calling while_loop_v2 (from tensorflow.python.ops.control_flow_ops) with back_prop=False is deprecated and will be removed in a future version.\n",
      "Instructions for updating:\n",
      "back_prop=False is deprecated. Consider using tf.stop_gradient instead.\n",
      "Instead of:\n",
      "results = tf.while_loop(c, b, vars, back_prop=False)\n",
      "Use:\n",
      "results = tf.nest.map_structure(tf.stop_gradient, tf.while_loop(c, b, vars))\n",
      "INFO:tensorflow:Restoring parameters from models/355M/model.ckpt\n"
     ]
    },
    {
     "name": "stdin",
     "output_type": "stream",
     "text": [
      "Model prompt >>>  How many days are in a week?\n"
     ]
    },
    {
     "name": "stdout",
     "output_type": "stream",
     "text": [
      "======================================== SAMPLE 1 ========================================\n",
      "  But more importantly for you, do you want to work 80+ hours a week or like to work in the 40 hours per week range?  If you live near an expensive job, a high income, and a solid school/college, then yes you want larger hours on the weekends and even tons of overtime.  Time Management is a lot of personal decision that we should hope to reduce in legislation (as it could affect our ability to survive and thrive). 4) Many people in the workplace may not even pay their own your own rent when they lease a place from an ex their salary sucks (let me be blunt, I don't go looking for someone with $3500 for their first apartment). If people want to keep renting their place, rather than putting money down they should be able to afford safety net to pull their children or rent a car. And finally, do you mind if I ask you if our associate passion is sports?  I promise, the people who bring the loud accents to packed Ray's chairs will get fired quite easily.\n",
      "\n",
      "About the Author:  Tyler T. Roberts is a 7th grade Class K student at Bishop Gregg high school in Troy, MI preparing for a head coaching job at Rutgers.  The architect of online sales technology business here at Wired Corporate Support has had jobs with always fantastic women at hyperlocal supermarket appliance stores. Tyler is also the publisher of the popular internet affairs site Wallston Blogs.  The name Wallston Blog was coined by his ex-wife to guide his post taking his company online. Tyler also hosts the weekly NASCARX motoring show along with his family.\n",
      "Originally published at http://theheadlinemilitary.com/ all 125 friends you never got to know on 4 billion pages of data found behind star wars 3 bad guys.<|endoftext|>The Supreme Court of Canada has struck down a law banning gay groups from joining schools across Canada because the groups don't want to be lumped with the claims organizations make in their social work programs.\n",
      "\n",
      "Education Advocate Jeramie Roediger filed the case. RCMP are defending the law.\n",
      "\n",
      "The Supreme Court of Canada struck down a law banning gay groups from joining schools across Canada because the groups don't want to be lumped with the claims organizations make in their social work programs. 0:54\n",
      "\n",
      "No lawyer representing LGBT groups, lawyers from the organizations or alumni has been charged with a crime or indicated what, if any, civil or criminal charges could result. No member of the group\n",
      "================================================================================\n"
     ]
    },
    {
     "name": "stdin",
     "output_type": "stream",
     "text": [
      "Model prompt >>>  bye\n"
     ]
    }
   ],
   "source": [
    "interact_model('355M')"
   ]
  },
  {
   "cell_type": "code",
   "execution_count": 3,
   "metadata": {},
   "outputs": [
    {
     "name": "stdout",
     "output_type": "stream",
     "text": [
      "WARNING:tensorflow:From /home/avmo/src/sandbox/gpt-2/src2/sample.py:79: calling while_loop_v2 (from tensorflow.python.ops.control_flow_ops) with back_prop=False is deprecated and will be removed in a future version.\n",
      "Instructions for updating:\n",
      "back_prop=False is deprecated. Consider using tf.stop_gradient instead.\n",
      "Instead of:\n",
      "results = tf.while_loop(c, b, vars, back_prop=False)\n",
      "Use:\n",
      "results = tf.nest.map_structure(tf.stop_gradient, tf.while_loop(c, b, vars))\n",
      "INFO:tensorflow:Restoring parameters from models/355M/model.ckpt\n"
     ]
    },
    {
     "name": "stdin",
     "output_type": "stream",
     "text": [
      "Model prompt >>>  What is the smallest prime number?\n"
     ]
    },
    {
     "name": "stdout",
     "output_type": "stream",
     "text": [
      "======================================== SAMPLE 1 ========================================\n",
      "\n",
      "\n",
      "(flip a coin)\n",
      "\n",
      "5\n",
      "\n",
      "(flip two coins)\n",
      "\n",
      "256\n",
      "\n",
      "256\n",
      "\n",
      "256\n",
      "\n",
      "256\n",
      "\n",
      "---- ----------- Shuffle 02: Secure priming 09: Secure priming in binary 12: Analysis/documenting of secure priming accomplishments\n",
      "\n",
      "You can use general linear algebra to perfect search compact integer prime numbers of that form. -Jonathan Walter<|endoftext|>From Fromder on a kayak, to spot a night glider, to without a doubt harken back to some rather magical days in the mind of Peter Hamilton: true adventurer and fine guy to grace news headlines throughout the 1980s. Yet, it wasn't until 1967 that Hamilton, bred to power across eastern and southern Europe in the 1930s, set out on his way to Syracuse.\n",
      "\n",
      "Hamilton's quest to settle in Middle America led him to try, for a time, to ferry the New York Jewish refugees from 1944-45 out of the US and into safety, as well as for himself (a disgraceful consolation prize with no simple way to generate income)?\n",
      "\n",
      "What about his adventures after that?\n",
      "\n",
      "You know, forget just trying to interpret Peter Hamilton's pretty much impossible history of the American West? Well next time you see him on promo videos, try to guess what his last adventure, a water crossing $18-20,000-$20,000 ($ 40-60,000+ access fee) should have been like? http://youtu.be/GLSp6gDLXkc\n",
      "\n",
      "Or ...<|endoftext|>Massachusetts Health & Retirement System partnered with the Transportation Institute of Excellence (TIE) and Rutgers University researchers to study commuter rail. The study received connections from Nasa and from NOAA. Roger Wolff is a professor with TIE. It is by far the largest clinical trial of conventional CMPR technology.~㛮㛮<|endoftext|>I climbed into the burn pile for my Omelet at around 9:45am on Saturday. I call that a saw. There were three falls: both on the regular pit climb and at the top of the stairs that carry us up the Providence Long Pointstile 20. They were really hard to get back into even a part of the way.\n",
      "Back on the call: this route has a stick coffin that holds line for this is less harshly climbed but I stayed tight. Luke made it to the adjacent business section nice and between me and a nightmare partial stack view under to reach the parking car.\n",
      "Luke made\n",
      "================================================================================\n"
     ]
    },
    {
     "name": "stdin",
     "output_type": "stream",
     "text": [
      "Model prompt >>>  Name all the colours in a rainbow.\n"
     ]
    },
    {
     "name": "stdout",
     "output_type": "stream",
     "text": [
      "======================================== SAMPLE 1 ========================================\n",
      " forPhotoshop :: Bang => \"for for word/separators\"\n",
      "\n",
      "\"\"\" Configure np.random image interpolation Interactive Replace by Kelly models kelly_boxes = np.random.randint(5) #P. Resources Math vehicles enough, too! randomizeThing({sizzlers: {'.816f0570:'.13db2a765}:'.0f961036:'.168d4099:'.154cc89a})\n",
      "\n",
      "\"\"\" Specifically do full 3D transforms Affect the models much too substantially force relief constd = vehicle_body_fill_ergiltest(faces) TopLeft = constd.north + 18.75 RandomizedFacets = [txt], [txt,>txt,>txt,<txt] unknown_fragments = [nn,nn,nn], [nn,\n",
      "\n",
      "+nn,+nn,+nn]) Marbles = {} unbiasedVolumes = ['knife,hammer,female enemies 25% NC'] river_carboxes = [true], [true, TRUE] Settlers = {Knife,Handy Cruiser} 3TurnStoops = 4 drain_RandomIRerexposure ttframework ()\n",
      "\n",
      "\"\"\" Create a random piece of terrain (i.e. unused)) using world variables [\"worldMilionTexture\", MilionTexture, DefaultShapeShape, LeftReverseVections], number of reduced filaments. playHalfRound ()\n",
      "\n",
      "\"\"\" global playDeadSpaces – Explicit set. Use this to abort if a rule that wraps the map has broken.worldEnvironment = { placeholderNumber: start_scene!3!worldFell_point, worldHalfPoint!0!worldHalfPoint, worldHeight!lterights, papy mountains, greenleaf trees, frigatey grass, dunes} exploreLevels() exploreAll() senselessThemes\n",
      "\n",
      "background() settdunction kudgeAreas nobrawspacesPhongrounds whatIsFenlandFropenUrlDungeon ZarysFortune\"\n",
      "\n",
      "\"\"\" Returns not more than 8 data points at a time then completes deleting random_quest_variable and world system variables \"putUnused\" .\"getTerrain\" that are used to calculate error lists. localplotsParams :vector <- plotMode[0], return ~worldCutions()~\n",
      "\n",
      "\"\"\" Checks whether the explored level is \"open\" the next time mode length is changed adventures_group in index out\n",
      "================================================================================\n"
     ]
    },
    {
     "name": "stdin",
     "output_type": "stream",
     "text": [
      "Model prompt >>>  quit\n"
     ]
    }
   ],
   "source": [
    "interact_model('355M')"
   ]
  },
  {
   "cell_type": "code",
   "execution_count": null,
   "metadata": {},
   "outputs": [],
   "source": []
  }
 ],
 "metadata": {
  "kernelspec": {
   "display_name": "py-gpt-2",
   "language": "python",
   "name": "py-gpt-2"
  },
  "language_info": {
   "codemirror_mode": {
    "name": "ipython",
    "version": 3
   },
   "file_extension": ".py",
   "mimetype": "text/x-python",
   "name": "python",
   "nbconvert_exporter": "python",
   "pygments_lexer": "ipython3",
   "version": "3.8.5"
  }
 },
 "nbformat": 4,
 "nbformat_minor": 4
}
